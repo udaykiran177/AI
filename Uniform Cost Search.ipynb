{
 "cells": [
  {
   "cell_type": "code",
   "execution_count": 35,
   "id": "f6507e28",
   "metadata": {},
   "outputs": [
    {
     "data": {
      "text/plain": [
       "[10, 3]"
      ]
     },
     "execution_count": 35,
     "metadata": {},
     "output_type": "execute_result"
    }
   ],
   "source": [
    "graph=[[] for i in range(8)]\n",
    "\n",
    "graph[0].append(1)\n",
    "graph[0].append(3)\n",
    "graph[3].append(1)\n",
    "graph[3].append(6)\n",
    "graph[3].append(4)\n",
    "graph[1].append(6)\n",
    "graph[4].append(2)\n",
    "graph[4].append(5)\n",
    "graph[2].append(1)\n",
    "graph[5].append(2)\n",
    "graph[5].append(6)\n",
    "graph[6].append(4)\n",
    "\n",
    "cost={}\n",
    "cost[(0, 1)] = 2\n",
    "cost[(0, 3)] = 5\n",
    "cost[(1, 6)] = 1\n",
    "cost[(3, 1)] = 5\n",
    "cost[(3, 6)] = 6\n",
    "cost[(3, 4)] = 2\n",
    "cost[(2, 1)] = 4\n",
    "cost[(4, 2)] = 4\n",
    "cost[(4, 5)] = 3\n",
    "cost[(5, 2)] = 6\n",
    "cost[(5, 6)] = 3\n",
    "cost[(6, 4)] = 7\n",
    "\n",
    "\n",
    "def uniform(start,goal,graph,cost):\n",
    "    \n",
    "    answer=[]\n",
    "    pri_queue=[]\n",
    "    visited=[]\n",
    "    count=0\n",
    "    \n",
    "    for i in range(len(goal)):\n",
    "        answer.append(10**8)\n",
    "        \n",
    "    pri_queue.append([0,start])\n",
    "    \n",
    "    while(len(pri_queue)>0):\n",
    "        pri_queue.sort()\n",
    "        \n",
    "        temp=pri_queue.pop(0)\n",
    "        \n",
    "        if temp[1] in goal:\n",
    "            ind=goal.index(temp[1])\n",
    "            if answer[ind]==10**8:\n",
    "                count+=1\n",
    "            if answer[ind]>temp[0]:\n",
    "                answer[ind]=temp[0]\n",
    "#             if (count==len(goal)):\n",
    "#                 return answer\n",
    "        if temp[1] not in visited:\n",
    "            for i in graph[temp[1]]:\n",
    "                pri_queue.append([(temp[0] + cost[(temp[1], i)]), i])\n",
    "        visited.append(temp[1])\n",
    "    return answer\n",
    "\n",
    "uniform(0,[5,6],graph,cost)"
   ]
  }
 ],
 "metadata": {
  "kernelspec": {
   "display_name": "Python 3 (ipykernel)",
   "language": "python",
   "name": "python3"
  },
  "language_info": {
   "codemirror_mode": {
    "name": "ipython",
    "version": 3
   },
   "file_extension": ".py",
   "mimetype": "text/x-python",
   "name": "python",
   "nbconvert_exporter": "python",
   "pygments_lexer": "ipython3",
   "version": "3.9.7"
  }
 },
 "nbformat": 4,
 "nbformat_minor": 5
}
