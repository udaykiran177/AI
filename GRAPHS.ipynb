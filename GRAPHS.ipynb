{
 "cells": [
  {
   "cell_type": "code",
   "execution_count": 65,
   "id": "e8ab3880",
   "metadata": {},
   "outputs": [],
   "source": [
    "m,n,aim=map(int,input().split())\n",
    "\n",
    "def jar(m,n,cap):\n",
    "    t1=m\n",
    "    t2=0\n",
    "    temp=min(t1,n-t2)\n",
    "    m-=temp\n",
    "    n+=temp\n",
    "    while (m )"
   ]
  },
  {
   "cell_type": "code",
   "execution_count": null,
   "id": "e8ec476f",
   "metadata": {},
   "outputs": [],
   "source": []
  },
  {
   "cell_type": "code",
   "execution_count": 3,
   "id": "f4e90483",
   "metadata": {},
   "outputs": [
    {
     "name": "stdout",
     "output_type": "stream",
     "text": [
      "enter no of edges:10\n",
      "a b\n",
      "a c\n",
      "a d\n",
      "b e\n",
      "b f\n",
      "c f\n",
      "c g\n",
      "e h\n",
      "e i\n",
      "f j\n"
     ]
    }
   ],
   "source": [
    "from collections import defaultdict\n",
    "dic=defaultdict(list)\n",
    "for i in range(int(input('enter no of edges:'))):\n",
    "    m,n=input().split()\n",
    "    dic[m].append(n)"
   ]
  },
  {
   "cell_type": "markdown",
   "id": "2f64da61",
   "metadata": {},
   "source": [
    "# BFS"
   ]
  },
  {
   "cell_type": "code",
   "execution_count": 5,
   "id": "8375ec57",
   "metadata": {},
   "outputs": [
    {
     "name": "stdout",
     "output_type": "stream",
     "text": [
      "Enter target: g\n",
      "['d', 'c', 'b']       ['a']       ['b', 'c', 'd']\n",
      "['f', 'e', 'd', 'c']       ['a', 'b']       ['e', 'f']\n",
      "['g', 'f', 'e', 'd']       ['a', 'b', 'c']       ['f', 'g']\n",
      "['i', 'h', 'g', 'f']       ['a', 'b', 'c', 'd', 'e']       ['h', 'i']\n",
      "['j', 'i', 'h', 'g']       ['a', 'b', 'c', 'd', 'e', 'f']       ['j']\n",
      "Found\n"
     ]
    }
   ],
   "source": [
    "open_list=['a']\n",
    "closed_list=[]\n",
    "stack=[]\n",
    "\n",
    "target=input('Enter target: ')\n",
    "c=0\n",
    "\n",
    "def addto(open_list,lis):\n",
    "    for i in lis:\n",
    "        if i not in open_list:\n",
    "            open_list.insert(0,i)\n",
    "    return open_list\n",
    "\n",
    "while(open_list!=[]):\n",
    "    n=open_list.pop()\n",
    "    if (n==target):\n",
    "        print('Found')\n",
    "        c=1\n",
    "        break\n",
    "    if n in dic:\n",
    "            open_list=addto(open_list,dic[n])\n",
    "            closed_list.append(n)\n",
    "            print(open_list,\"     \",closed_list,\"     \",dic[n])\n",
    "    else:\n",
    "        closed_list.append(n)\n",
    "\n",
    "if c==0:\n",
    "    print('Not Found')"
   ]
  },
  {
   "cell_type": "code",
   "execution_count": 6,
   "id": "8b4f1c9b",
   "metadata": {},
   "outputs": [
    {
     "name": "stdout",
     "output_type": "stream",
     "text": [
      "Final traversal order: ['a', 'b', 'c', 'd', 'e', 'f'] ['j', 'i', 'h']\n"
     ]
    }
   ],
   "source": [
    "print(\"Final traversal order:\",closed_list,open_list)"
   ]
  },
  {
   "cell_type": "markdown",
   "id": "7050b956",
   "metadata": {},
   "source": [
    "# DFS"
   ]
  },
  {
   "cell_type": "code",
   "execution_count": 7,
   "id": "3b0f213b",
   "metadata": {},
   "outputs": [
    {
     "name": "stdout",
     "output_type": "stream",
     "text": [
      "Enter target: g\n",
      "['b', 'c', 'd']       ['a']       ['b', 'c', 'd']\n",
      "['b', 'f', 'g']       ['a', 'd', 'c']       ['f', 'g']\n",
      "Found\n"
     ]
    }
   ],
   "source": [
    "open_list=['a']\n",
    "closed_list=[]\n",
    "stack=[]\n",
    "\n",
    "target=input('Enter target: ')\n",
    "c=0\n",
    "\n",
    "def addto(open_list,lis):\n",
    "    for i in lis:\n",
    "        if i not in open_list:\n",
    "            open_list.append(i)\n",
    "    return open_list\n",
    "\n",
    "while(open_list!=[]):\n",
    "    n=open_list.pop()\n",
    "    if (n==target):\n",
    "        print('Found')\n",
    "        c=1\n",
    "        break\n",
    "    if n in dic:\n",
    "            open_list=addto(open_list,dic[n])\n",
    "            if n not in closed_list:\n",
    "                closed_list.append(n)\n",
    "            print(open_list,\"     \",closed_list,\"     \",dic[n])\n",
    "    else:\n",
    "        closed_list.append(n)\n",
    "if c==0:\n",
    "    print('Not Found')"
   ]
  },
  {
   "cell_type": "code",
   "execution_count": 8,
   "id": "94e720af",
   "metadata": {
    "scrolled": false
   },
   "outputs": [
    {
     "name": "stdout",
     "output_type": "stream",
     "text": [
      "Final traversal order: ['a', 'd', 'c'] ['b', 'f']\n"
     ]
    }
   ],
   "source": [
    "print(\"Final traversal order:\",closed_list,open_list)"
   ]
  },
  {
   "cell_type": "markdown",
   "id": "0198ebc2",
   "metadata": {},
   "source": [
    "# Uniform Cost Search"
   ]
  },
  {
   "cell_type": "code",
   "execution_count": 1,
   "id": "2fa5ee5b",
   "metadata": {},
   "outputs": [
    {
     "data": {
      "text/plain": [
       "[10, 3]"
      ]
     },
     "execution_count": 1,
     "metadata": {},
     "output_type": "execute_result"
    }
   ],
   "source": [
    "graph=[[] for i in range(8)]\n",
    "\n",
    "graph[0].append(1)\n",
    "graph[0].append(3)\n",
    "graph[3].append(1)\n",
    "graph[3].append(6)\n",
    "graph[3].append(4)\n",
    "graph[1].append(6)\n",
    "graph[4].append(2)\n",
    "graph[4].append(5)\n",
    "graph[2].append(1)\n",
    "graph[5].append(2)\n",
    "graph[5].append(6)\n",
    "graph[6].append(4)\n",
    "\n",
    "cost={}\n",
    "cost[(0, 1)] = 2\n",
    "cost[(0, 3)] = 5\n",
    "cost[(1, 6)] = 1\n",
    "cost[(3, 1)] = 5\n",
    "cost[(3, 6)] = 6\n",
    "cost[(3, 4)] = 2\n",
    "cost[(2, 1)] = 4\n",
    "cost[(4, 2)] = 4\n",
    "cost[(4, 5)] = 3\n",
    "cost[(5, 2)] = 6\n",
    "cost[(5, 6)] = 3\n",
    "cost[(6, 4)] = 7\n",
    "\n",
    "\n",
    "def uniform(start,goal,graph,cost):\n",
    "    \n",
    "    answer=[]\n",
    "    pri_queue=[]\n",
    "    visited=[]\n",
    "    count=0\n",
    "    \n",
    "    for i in range(len(goal)):\n",
    "        answer.append(10**8)\n",
    "        \n",
    "    pri_queue.append([0,start])\n",
    "    \n",
    "    while(len(pri_queue)>0):\n",
    "        pri_queue.sort()\n",
    "        \n",
    "        temp=pri_queue.pop(0)\n",
    "        \n",
    "        if temp[1] in goal:\n",
    "            ind=goal.index(temp[1])\n",
    "            if answer[ind]==10**8:\n",
    "                count+=1\n",
    "            if answer[ind]>temp[0]:\n",
    "                answer[ind]=temp[0]\n",
    "#             if (count==len(goal)):\n",
    "#                 return answer\n",
    "        if temp[1] not in visited:\n",
    "            for i in graph[temp[1]]:\n",
    "                pri_queue.append([(temp[0] + cost[(temp[1], i)]), i])\n",
    "        visited.append(temp[1])\n",
    "    return answer\n",
    "\n",
    "uniform(0,[5,6],graph,cost)"
   ]
  },
  {
   "cell_type": "markdown",
   "id": "564aa088",
   "metadata": {},
   "source": [
    "# Depth-First Iterative Deepening"
   ]
  },
  {
   "cell_type": "code",
   "execution_count": 37,
   "id": "b677814e",
   "metadata": {},
   "outputs": [
    {
     "name": "stdout",
     "output_type": "stream",
     "text": [
      "0\n",
      "0\n",
      "1\n",
      "2\n",
      "0\n",
      "1\n",
      "3\n",
      "4\n",
      "2\n",
      "5\n",
      "6\n",
      "Target is reachable from source within max depth\n"
     ]
    }
   ],
   "source": [
    "from collections import defaultdict\n",
    "\n",
    "closed=[]\n",
    "def dfs(g,src,des,depth):\n",
    "    print(src)\n",
    "    if src==des:\n",
    "        return True\n",
    "    if depth<=0:\n",
    "        return False\n",
    "    for i in g[src]:\n",
    "        if dfs(g,i,des,depth-1):\n",
    "            return True\n",
    "    return False\n",
    "    \n",
    "def IDDFS(g,src,des,depth):\n",
    "    for i in range(depth):\n",
    "        if (dfs(g,src,des,i)):\n",
    "            return True\n",
    "    return False\n",
    "\n",
    "\n",
    "g=defaultdict(list)\n",
    "g[0].append(1)\n",
    "g[0].append(2)\n",
    "g[1].append(3)\n",
    "g[1].append(4)\n",
    "g[2].append(5)\n",
    "g[2].append(6)\n",
    "\n",
    "target = 6; maxDepth = 3; src = 0\n",
    " \n",
    "if IDDFS(g,src, target, maxDepth) :\n",
    "    print (\"Target is reachable from source \" +\n",
    "        \"within max depth\")\n",
    "else :\n",
    "    print (\"Target is NOT reachable from source \" +\n",
    "        \"within max depth\")"
   ]
  },
  {
   "cell_type": "markdown",
   "id": "3277473d",
   "metadata": {},
   "source": [
    "# BI - DIRECTIONAL"
   ]
  },
  {
   "cell_type": "code",
   "execution_count": 55,
   "id": "02cd6638",
   "metadata": {},
   "outputs": [
    {
     "name": "stdout",
     "output_type": "stream",
     "text": [
      "Queue Left:  ['E', 'E', 'F']\n"
     ]
    },
    {
     "data": {
      "text/plain": [
       "['D']"
      ]
     },
     "execution_count": 55,
     "metadata": {},
     "output_type": "execute_result"
    }
   ],
   "source": [
    "def bidirectional_search(start, end, dest):\n",
    "    \n",
    "\n",
    "    queue_left = [start]\n",
    "    queue_right = [end]\n",
    "    visited = set()\n",
    "\n",
    "    while queue_left:\n",
    "        open_list=['a']\n",
    "        closed_list=[]\n",
    "        stack=[]\n",
    "\n",
    "        target=input('Enter target: ')\n",
    "        while(open_list!=[]):\n",
    "            n=open_list.pop()\n",
    "            if (n==target):\n",
    "                print('Found')\n",
    "                c=1\n",
    "                break\n",
    "            if n in dic:\n",
    "                    open_list=addto(open_list,dic[n])\n",
    "                    closed_list.append(n)\n",
    "                    print(open_list,\"     \",closed_list,\"     \",dic[n])\n",
    "            else:\n",
    "                closed_list.append(n)\n",
    "#         node = queue_left.pop(0)\n",
    "#         if node in visited:\n",
    "#               continue\n",
    "\n",
    "#         visited.add(node)\n",
    "#         if node == dest:\n",
    "#             print('Queue Left: ',queue_left)\n",
    "#             return [node]\n",
    "\n",
    "#         for neighbor in graph[node]:\n",
    "#                   if neighbor not in visited:\n",
    "#                          queue_left.append(neighbor)\n",
    "\n",
    "    while queue_right:\n",
    "            node = queue_right.pop(0)\n",
    "            if node in visited:\n",
    "                  continue\n",
    "\n",
    "            visited.add(node)\n",
    "            if node == dest:\n",
    "                print('Queue Right: ',queue_right)\n",
    "                return [node]\n",
    "\n",
    "            for neighbor in graph[node]:\n",
    "                  if neighbor not in visited:\n",
    "                        queue_right.append(neighbor)\n",
    "\n",
    "    return []\n",
    "\n",
    "graph={\n",
    "    'A':['B','C'],\n",
    "    'B':['D','E'],\n",
    "    'C':['E','F'],\n",
    "    'D':[],\n",
    "    'E':['G'],\n",
    "    'F':['G']\n",
    "}\n",
    "bidirectional_search('A', 'G', 'D')"
   ]
  },
  {
   "cell_type": "code",
   "execution_count": null,
   "id": "46bc2cdb",
   "metadata": {},
   "outputs": [],
   "source": [
    "open_list=['A']\n",
    "closed_list=[]\n",
    "\n",
    "while(open_list)"
   ]
  }
 ],
 "metadata": {
  "kernelspec": {
   "display_name": "Python 3 (ipykernel)",
   "language": "python",
   "name": "python3"
  },
  "language_info": {
   "codemirror_mode": {
    "name": "ipython",
    "version": 3
   },
   "file_extension": ".py",
   "mimetype": "text/x-python",
   "name": "python",
   "nbconvert_exporter": "python",
   "pygments_lexer": "ipython3",
   "version": "3.9.7"
  }
 },
 "nbformat": 4,
 "nbformat_minor": 5
}
