{
 "cells": [
  {
   "cell_type": "code",
   "execution_count": 65,
   "id": "e8ab3880",
   "metadata": {},
   "outputs": [],
   "source": [
    "m,n,aim=map(int,input().split())\n",
    "\n",
    "def jar(m,n,cap):\n",
    "    t1=m\n",
    "    t2=0\n",
    "    temp=min(t1,n-t2)\n",
    "    m-=temp\n",
    "    n+=temp\n",
    "    while (m )"
   ]
  },
  {
   "cell_type": "code",
   "execution_count": null,
   "id": "e8ec476f",
   "metadata": {},
   "outputs": [],
   "source": []
  },
  {
   "cell_type": "code",
   "execution_count": 38,
   "id": "f4e90483",
   "metadata": {},
   "outputs": [
    {
     "name": "stdout",
     "output_type": "stream",
     "text": [
      "enter no of edges:10\n",
      "a b\n",
      "a c\n",
      "a d\n",
      "b e\n",
      "b f\n",
      "c f\n",
      "c g\n",
      "e h\n",
      "e i\n",
      "f j\n"
     ]
    }
   ],
   "source": [
    "from collections import defaultdict\n",
    "dic=defaultdict(list)\n",
    "for i in range(int(input('enter no of edges:'))):\n",
    "    m,n=input().split()\n",
    "    dic[m].append(n)"
   ]
  },
  {
   "cell_type": "markdown",
   "id": "2f64da61",
   "metadata": {},
   "source": [
    "# BFS"
   ]
  },
  {
   "cell_type": "code",
   "execution_count": 50,
   "id": "8375ec57",
   "metadata": {},
   "outputs": [
    {
     "name": "stdout",
     "output_type": "stream",
     "text": [
      "Enter target: g\n",
      "['d', 'c', 'b']       ['a']       ['b', 'c', 'd']\n",
      "['f', 'e', 'd', 'c']       ['a', 'b']       ['e', 'f']\n",
      "['g', 'f', 'e', 'd']       ['a', 'b', 'c']       ['f', 'g']\n",
      "['i', 'h', 'g', 'f']       ['a', 'b', 'c', 'd', 'e']       ['h', 'i']\n",
      "['j', 'i', 'h', 'g']       ['a', 'b', 'c', 'd', 'e', 'f']       ['j']\n",
      "Found\n"
     ]
    }
   ],
   "source": [
    "open_list=['a']\n",
    "closed_list=[]\n",
    "stack=[]\n",
    "\n",
    "target=input('Enter target: ')\n",
    "c=0\n",
    "\n",
    "def addto(open_list,lis):\n",
    "    for i in lis:\n",
    "        if i not in open_list:\n",
    "            open_list.insert(0,i)\n",
    "    return open_list\n",
    "\n",
    "while(open_list!=[]):\n",
    "    n=open_list.pop()\n",
    "    if (n==target):\n",
    "        print('Found')\n",
    "        c=1\n",
    "        break\n",
    "    if n in dic:\n",
    "            open_list=addto(open_list,dic[n])\n",
    "            closed_list.append(n)\n",
    "            print(open_list,\"     \",closed_list,\"     \",dic[n])\n",
    "    else:\n",
    "        closed_list.append(n)\n",
    "\n",
    "if c==0:\n",
    "    print('Not Found')"
   ]
  },
  {
   "cell_type": "code",
   "execution_count": 47,
   "id": "8b4f1c9b",
   "metadata": {},
   "outputs": [
    {
     "name": "stdout",
     "output_type": "stream",
     "text": [
      "Final traversal order: ['a', 'b', 'c', 'd', 'e', 'f', 'g', 'h', 'i', 'j']\n"
     ]
    }
   ],
   "source": [
    "print(\"Final traversal order:\",closed_list)"
   ]
  },
  {
   "cell_type": "markdown",
   "id": "7050b956",
   "metadata": {},
   "source": [
    "# DFS"
   ]
  },
  {
   "cell_type": "code",
   "execution_count": 57,
   "id": "3b0f213b",
   "metadata": {},
   "outputs": [
    {
     "name": "stdout",
     "output_type": "stream",
     "text": [
      "Enter target: g\n",
      "['b', 'c', 'd']       ['a']       ['b', 'c', 'd']\n",
      "['b', 'f', 'g']       ['a', 'd', 'c']       ['f', 'g']\n",
      "Found\n"
     ]
    }
   ],
   "source": [
    "open_list=['a']\n",
    "closed_list=[]\n",
    "stack=[]\n",
    "\n",
    "target=input('Enter target: ')\n",
    "c=0\n",
    "\n",
    "def addto(open_list,lis):\n",
    "    for i in lis:\n",
    "        if i not in open_list:\n",
    "            open_list.append(i)\n",
    "    return open_list\n",
    "\n",
    "while(open_list!=[]):\n",
    "    n=open_list.pop()\n",
    "    if (n==target):\n",
    "        print('Found')\n",
    "        c=1\n",
    "        break\n",
    "    if n in dic:\n",
    "            open_list=addto(open_list,dic[n])\n",
    "            if n not in closed_list:\n",
    "                closed_list.append(n)\n",
    "            print(open_list,\"     \",closed_list,\"     \",dic[n])\n",
    "    else:\n",
    "        closed_list.append(n)\n",
    "if c==0:\n",
    "    print('Not Found')"
   ]
  },
  {
   "cell_type": "code",
   "execution_count": 56,
   "id": "94e720af",
   "metadata": {
    "scrolled": true
   },
   "outputs": [
    {
     "name": "stdout",
     "output_type": "stream",
     "text": [
      "Final traversal order: ['a', 'd', 'c']\n"
     ]
    }
   ],
   "source": [
    "print(\"Final traversal order:\",closed_list)"
   ]
  },
  {
   "cell_type": "code",
   "execution_count": null,
   "id": "7e485bd7",
   "metadata": {},
   "outputs": [],
   "source": []
  },
  {
   "cell_type": "code",
   "execution_count": null,
   "id": "b677814e",
   "metadata": {},
   "outputs": [],
   "source": []
  }
 ],
 "metadata": {
  "kernelspec": {
   "display_name": "Python 3 (ipykernel)",
   "language": "python",
   "name": "python3"
  },
  "language_info": {
   "codemirror_mode": {
    "name": "ipython",
    "version": 3
   },
   "file_extension": ".py",
   "mimetype": "text/x-python",
   "name": "python",
   "nbconvert_exporter": "python",
   "pygments_lexer": "ipython3",
   "version": "3.9.7"
  }
 },
 "nbformat": 4,
 "nbformat_minor": 5
}
