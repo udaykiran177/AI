{
 "cells": [
  {
   "cell_type": "markdown",
   "id": "47f8826e",
   "metadata": {},
   "source": [
    "# MINIMAX"
   ]
  },
  {
   "cell_type": "code",
   "execution_count": 3,
   "id": "13c56c4b",
   "metadata": {},
   "outputs": [
    {
     "name": "stdout",
     "output_type": "stream",
     "text": [
      "The optimal value is : 12\n"
     ]
    }
   ],
   "source": [
    "import math\n",
    " \n",
    "def minimax (curDepth, nodeIndex,maxTurn, scores,targetDepth):\n",
    "    if (curDepth == targetDepth):\n",
    "        return scores[nodeIndex]\n",
    "    if (maxTurn):\n",
    "        return max(minimax(curDepth + 1, nodeIndex * 2,\n",
    "                    False, scores, targetDepth),\n",
    "                   minimax(curDepth + 1, nodeIndex * 2 + 1,\n",
    "                    False, scores, targetDepth))\n",
    "    else:\n",
    "        return min(minimax(curDepth + 1, nodeIndex * 2,\n",
    "                     True, scores, targetDepth),\n",
    "                   minimax(curDepth + 1, nodeIndex * 2 + 1,\n",
    "                     True, scores, targetDepth))\n",
    "scores = [5, 3, 2, 9, 12, 5, 23, 23]\n",
    " \n",
    "treeDepth = math.log(len(scores), 2)\n",
    " \n",
    "print(\"The optimal value is : \", end = \"\")\n",
    "print(minimax(0, 0, True, scores, treeDepth))"
   ]
  },
  {
   "cell_type": "markdown",
   "id": "50256a50",
   "metadata": {},
   "source": [
    "# Alpha - Beta"
   ]
  },
  {
   "cell_type": "code",
   "execution_count": 14,
   "id": "27b43388",
   "metadata": {
    "scrolled": true
   },
   "outputs": [
    {
     "name": "stdout",
     "output_type": "stream",
     "text": [
      "3\n",
      "5\n",
      "5\n",
      "6\n",
      "5\n",
      "1\n",
      "0\n",
      "1\n",
      "The optimal value is : 5\n"
     ]
    }
   ],
   "source": [
    "MAX, MIN = 1000, -1000\n",
    "import math\n",
    "def minimax(depth, nodeIndex, maximizingPlayer,values, alpha, beta):\n",
    "    if depth == Depth:\n",
    "        return values[nodeIndex]\n",
    "    if maximizingPlayer:\n",
    "        best = MIN\n",
    "        for i in range(0, 2):\n",
    "            if (nodeIndex * 2 + i<len(values)):\n",
    "                val = minimax(depth + 1, nodeIndex * 2 + i,False, values, alpha, beta)\n",
    "            else:\n",
    "                val=0\n",
    "            best = max(best, val)\n",
    "            alpha = max(alpha, best)\n",
    "            if beta <= alpha:\n",
    "                break\n",
    "            print(val)\n",
    "        return best\n",
    "    else:\n",
    "        best = MAX\n",
    "        for i in range(0, 2):\n",
    "            if (nodeIndex * 2 + i<len(values)):\n",
    "                val = minimax(depth + 1, nodeIndex * 2 + i,True, values, alpha, beta)\n",
    "            else:\n",
    "                val=0\n",
    "            best = min(best, val)\n",
    "            beta = min(beta, best)\n",
    "            if beta <= alpha:\n",
    "                break\n",
    "            print(val)\n",
    "        return best\n",
    "      \n",
    "\n",
    "values = [3, 5, 6, 9, 1] \n",
    "Depth =math.ceil( math.log(len(values),2))\n",
    "print(\"The optimal value is :\", minimax(0, 0, True, values, MIN, MAX))"
   ]
  },
  {
   "cell_type": "code",
   "execution_count": 13,
   "id": "78e6bd32",
   "metadata": {},
   "outputs": [
    {
     "name": "stdout",
     "output_type": "stream",
     "text": [
      "[12, 2, 3, 4, 45, 5]\n"
     ]
    }
   ],
   "source": [
    "l=[12,2,3,4,45,5]\n",
    "def dun():\n",
    "    print(l)\n",
    "dun()"
   ]
  }
 ],
 "metadata": {
  "kernelspec": {
   "display_name": "Python 3 (ipykernel)",
   "language": "python",
   "name": "python3"
  },
  "language_info": {
   "codemirror_mode": {
    "name": "ipython",
    "version": 3
   },
   "file_extension": ".py",
   "mimetype": "text/x-python",
   "name": "python",
   "nbconvert_exporter": "python",
   "pygments_lexer": "ipython3",
   "version": "3.9.7"
  }
 },
 "nbformat": 4,
 "nbformat_minor": 5
}
