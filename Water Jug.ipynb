{
 "cells": [
  {
   "cell_type": "markdown",
   "id": "dc2146f8",
   "metadata": {},
   "source": [
    "# DFS"
   ]
  },
  {
   "cell_type": "code",
   "execution_count": 81,
   "id": "e73c6f3b",
   "metadata": {},
   "outputs": [],
   "source": [
    "def search(l,closed):\n",
    "    for i in l:\n",
    "        if i in closed:\n",
    "            l.remove(i)\n",
    "    return l\n",
    "\n",
    "def generate(m,open_list,closed_list,cap1,cap2):\n",
    "        l=[]\n",
    "        \n",
    "        if (m[0]>0):\n",
    "            l.append([0,m[1]])\n",
    "        if (m[1]>0):\n",
    "            l.append([m[0],0])\n",
    "        if (m[0]<cap1):\n",
    "            l.append([cap1,m[1]])\n",
    "        if (m[1]<cap2):\n",
    "            l.append([m[0],cap2])\n",
    "        if (m[0]+m[1]<=cap1 and m[1]>0):\n",
    "            l.append([m[0]+m[1],0])\n",
    "        if (m[0]+m[1]<=cap2 and m[0]>0):\n",
    "            l.append([0,m[0]+m[1]])\n",
    "        if (m[0]+m[1]>=cap1 and m[1]>0):\n",
    "            l.append([cap1,m[1]-cap1+m[0]])\n",
    "        if (m[0]+m[1]>=cap2 and m[0]>0):\n",
    "            l.append([m[0]-cap2+m[1],cap2])\n",
    "        l=search(l,closed_list)\n",
    "#         print(l)\n",
    "        return l"
   ]
  },
  {
   "cell_type": "code",
   "execution_count": 91,
   "id": "3b7786ac",
   "metadata": {},
   "outputs": [
    {
     "name": "stdout",
     "output_type": "stream",
     "text": [
      "[[5, 0], [0, 5]]\n",
      "[[5, 0], [0, 5]]  +  [[0, 0]]\n",
      "[[5, 5], [5, 0], [5, 0]]\n",
      "[[5, 5], [5, 0], [5, 0]]  +  [[0, 0], [0, 5]]\n",
      "[[5, 5], [0, 5]]\n",
      "[[5, 5], [0, 5]]  +  [[0, 0], [0, 5], [5, 0]]\n",
      "[[5, 5]]  +  [[0, 0], [0, 5], [5, 0]]\n",
      "[[5, 0], [5, 5], [5, 5]]\n",
      "[[5, 0], [5, 5], [5, 5]]  +  [[0, 0], [0, 5], [5, 0], [5, 5]]\n",
      "[[5, 0], [5, 5]]  +  [[0, 0], [0, 5], [5, 0], [5, 5]]\n",
      "[[5, 0]]  +  [[0, 0], [0, 5], [5, 0], [5, 5]]\n",
      "[]  +  [[0, 0], [0, 5], [5, 0], [5, 5]]\n",
      "Possible\n"
     ]
    }
   ],
   "source": [
    "open_list=[[0,0]]\n",
    "closed_list=[]\n",
    "cap1=5\n",
    "cap2=5\n",
    "target=[1,0]\n",
    "bol=True\n",
    "while(open_list!=[]):\n",
    "    m=open_list.pop()\n",
    "    \n",
    "    if m not in closed_list:\n",
    "        open_list=generate(m,open_list,closed_list,cap1,cap2)\n",
    "        closed_list.append(m)\n",
    "#     print(open_list,\" + \",closed_list)\n",
    "    if target in closed_list:\n",
    "        bol=False\n",
    "        break\n",
    "if bol:\n",
    "    print('Possible')\n",
    "else:\n",
    "    print('Not POssible')"
   ]
  },
  {
   "cell_type": "markdown",
   "id": "7739da35",
   "metadata": {},
   "source": [
    "# BFS"
   ]
  },
  {
   "cell_type": "code",
   "execution_count": 86,
   "id": "dacb040b",
   "metadata": {},
   "outputs": [],
   "source": [
    "def search(l,closed):\n",
    "    for i in l:\n",
    "        if i in closed:\n",
    "            l.remove(i)\n",
    "    return l\n",
    "\n",
    "def generate1(m,open_list,closed_list,cap1,cap2):\n",
    "        l=[]\n",
    "        \n",
    "        if (m[0]>0):\n",
    "            l.insert(0,[0,m[1]])\n",
    "        if (m[1]>0):\n",
    "            l.insert(0,[m[0],0])\n",
    "        if (m[0]<cap1):\n",
    "            l.insert(0,[cap1,m[1]])\n",
    "        if (m[1]<cap2):\n",
    "            l.insert(0,[m[0],cap2])\n",
    "        if (m[0]+m[1]<=cap1 and m[1]>0):\n",
    "            l.insert(0,[m[0]+m[1],0])\n",
    "        if (m[0]+m[1]<=cap2 and m[0]>0):\n",
    "            l.insert(0,[0,m[0]+m[1]])\n",
    "        if (m[0]+m[1]>=cap1 and m[1]>0):\n",
    "            l.insert(0,[cap1,m[1]-cap1+m[0]])\n",
    "        if (m[0]+m[1]>=cap2 and m[0]>0):\n",
    "            l.insert(0,[m[0]-cap2+m[1],cap2])\n",
    "        l=search(l,closed_list)\n",
    "#         print(l)\n",
    "        return l"
   ]
  },
  {
   "cell_type": "code",
   "execution_count": 16,
   "id": "9ebd2be5",
   "metadata": {},
   "outputs": [],
   "source": []
  },
  {
   "cell_type": "code",
   "execution_count": 72,
   "id": "d078dd48",
   "metadata": {},
   "outputs": [
    {
     "data": {
      "text/plain": [
       "[1, 2, 3, 3]"
      ]
     },
     "execution_count": 72,
     "metadata": {},
     "output_type": "execute_result"
    }
   ],
   "source": [
    "z=[1,2,3,4,3]\n",
    "\n",
    "z.pop(3)\n",
    "\n",
    "z"
   ]
  }
 ],
 "metadata": {
  "kernelspec": {
   "display_name": "Python 3 (ipykernel)",
   "language": "python",
   "name": "python3"
  },
  "language_info": {
   "codemirror_mode": {
    "name": "ipython",
    "version": 3
   },
   "file_extension": ".py",
   "mimetype": "text/x-python",
   "name": "python",
   "nbconvert_exporter": "python",
   "pygments_lexer": "ipython3",
   "version": "3.9.7"
  }
 },
 "nbformat": 4,
 "nbformat_minor": 5
}
